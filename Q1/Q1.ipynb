{
  "nbformat": 4,
  "nbformat_minor": 0,
  "metadata": {
    "colab": {
      "name": "Q1.ipynb",
      "provenance": [],
      "collapsed_sections": []
    },
    "kernelspec": {
      "name": "python3",
      "display_name": "Python 3"
    },
    "language_info": {
      "name": "python"
    }
  },
  "cells": [
    {
      "cell_type": "markdown",
      "metadata": {
        "id": "MTFuE-Gqa62w"
      },
      "source": [
        "#  Recommender Systems "
      ]
    },
    {
      "cell_type": "code",
      "metadata": {
        "id": "TH3XQ88tWVYW"
      },
      "source": [
        "import numpy as np\n",
        "import scipy\n",
        "import pandas as pd\n",
        "import math\n",
        "import random\n",
        "import sklearn\n",
        "from nltk.corpus import stopwords\n",
        "from scipy.sparse import csr_matrix\n",
        "from sklearn.model_selection import train_test_split\n",
        "from sklearn.feature_extraction.text import TfidfVectorizer\n",
        "from sklearn.metrics.pairwise import cosine_similarity\n",
        "from scipy.sparse.linalg import svds\n",
        "from sklearn.preprocessing import MinMaxScaler\n",
        "import matplotlib.pyplot as plt\n",
        "from operator import itemgetter"
      ],
      "execution_count": 1,
      "outputs": []
    },
    {
      "cell_type": "markdown",
      "metadata": {
        "id": "Y4Sp9mTtbWc4"
      },
      "source": [
        "# Users\n",
        "\n",
        "We recommended new games based on the similarity between users therefore we use both train and test data for making our model\n"
      ]
    },
    {
      "cell_type": "code",
      "metadata": {
        "id": "Nieic6CEXLTw"
      },
      "source": [
        "df1=pd.read_csv(\"train.csv\")\n",
        "df2=pd.read_csv(\"test.csv\")\n",
        "df1['historical_games']=[list(map(str, i.split(\" \"))) for i in df1['historical_games'] ]\n",
        "df2['historical_games']=[list(map(str, i.split(\" \"))) for i in df2['historical_games'] ]\n",
        "df1=df1.drop(columns=['next_game'])\n",
        "#Combining both datasets\n",
        "df=pd.concat([df1, df2],ignore_index=True)"
      ],
      "execution_count": 2,
      "outputs": []
    },
    {
      "cell_type": "code",
      "metadata": {
        "id": "kZKLgyZhcwwh"
      },
      "source": [
        "def save_into_csv(df,recom):\n",
        "  Predication=pd.DataFrame(df['id'])\n",
        "  Predication['next_game']=0\n",
        "  for i in range(len(recom)):\n",
        "    x = [str(x) for x in recom[i]]\n",
        "    Predication['next_game'][i]= \" \".join(x)\n",
        "  Predication.to_csv(\"Predication.csv\",index=False) "
      ],
      "execution_count": 3,
      "outputs": []
    },
    {
      "cell_type": "markdown",
      "metadata": {
        "id": "FOD1xiaBa0fx"
      },
      "source": [
        "# Popularity model\n",
        "In this approach we recommend games that are most popular (downloaded) to every body "
      ]
    },
    {
      "cell_type": "code",
      "metadata": {
        "id": "jZWmsUYqXMs-"
      },
      "source": [
        "#How many time every game has been downloaded\n",
        "def count_download(df):  \n",
        "    downloaddict=dict()\n",
        "    for i in df['historical_games']:\n",
        "      for j in i:\n",
        "        if j in downloaddict:\n",
        "          downloaddict[j]=downloaddict[j]+1\n",
        "        else:\n",
        "          downloaddict[j]=1\n",
        "    N = len(downloaddict)\n",
        "    res = dict(sorted(downloaddict.items(), key = itemgetter(1), reverse = True)[:N])\n",
        "    return res"
      ],
      "execution_count": 4,
      "outputs": []
    },
    {
      "cell_type": "code",
      "metadata": {
        "colab": {
          "base_uri": "https://localhost:8080/",
          "height": 265
        },
        "id": "5-ephdFcXNzO",
        "outputId": "9e24365b-9f05-4d00-d359-ac1188463ebf"
      },
      "source": [
        "count_dict=count_download(df)\n",
        "plt.bar(*zip(*count_dict.items()))\n",
        "plt.show()\n"
      ],
      "execution_count": 58,
      "outputs": [
        {
          "output_type": "display_data",
          "data": {
            "image/png": "[encoded data removed]",
            "text/plain": [
              "<Figure size 432x288 with 1 Axes>"
            ]
          },
          "metadata": {
            "tags": [],
            "needs_background": "light"
          }
        }
      ]
    },
    {
      "cell_type": "code",
      "metadata": {
        "id": "mxb8n61bcRbv"
      },
      "source": [
        "#giving the most popular games as recommended game\n",
        "def Poularity(df):\n",
        "  keysList = list(count_dict.keys())\n",
        "  R=[]\n",
        "  for i in df['id']:\n",
        "    R.append(keysList[:5])\n",
        "  save_into_csv(df,R) \n",
        "\n",
        "Poularity(df)"
      ],
      "execution_count": 6,
      "outputs": []
    },
    {
      "cell_type": "markdown",
      "metadata": {
        "id": "Cu4gsLMecLmB"
      },
      "source": [
        "# Collaborative filtering\n",
        "In this approach we recommend games to users with similar taste"
      ]
    },
    {
      "cell_type": "code",
      "metadata": {
        "id": "ErXyWfwaXOzY"
      },
      "source": [
        "data_list = []\n",
        "for i in range(len(df)):\n",
        "  dic=dict()\n",
        "  for j in (df['historical_games'][i]):\n",
        "    if j in dic:\n",
        "      dic[j]=dic[j]+1\n",
        "    else:\n",
        "      dic[j]=1\n",
        "  for key in dic:\n",
        "    #only consider games that are played more than 100 times\n",
        "    if count_dict[key]>100:\n",
        "        data_list.append((df['id'][i],key,dic[key]))\n",
        "Download_users = pd.DataFrame (data_list,columns=['user','item','download'])"
      ],
      "execution_count": 28,
      "outputs": []
    },
    {
      "cell_type": "code",
      "metadata": {
        "id": "O-A_rv78XP1Q"
      },
      "source": [
        "game_download_pivot = Download_users.pivot_table(values = 'download', index = 'item', columns = 'user')  \n",
        "\n",
        "# Replace NaNs with 0s\n",
        "game_download_pivot.fillna(0, inplace = True)\n",
        "\n",
        "# Display first few rows and columns of game and ratings pivot table\n",
        "game_download_pivot"
      ],
      "execution_count": null,
      "outputs": []
    },
    {
      "cell_type": "code",
      "metadata": {
        "id": "nJhwjKKiXRLw"
      },
      "source": [
        "game_titles = game_download_pivot.index\n",
        "\n",
        "# Define correlation matrix to get correlation between game\n",
        "corr_matrix = np.corrcoef(game_download_pivot)\n",
        "\n",
        "# Display correlation matrix\n",
        "corr_matrix"
      ],
      "execution_count": null,
      "outputs": []
    },
    {
      "cell_type": "code",
      "metadata": {
        "id": "wyWfAt4kXSap"
      },
      "source": [
        "def recommender(game_names):  \n",
        "    # Initialize recommendations output length of number of game\n",
        "    recommendations = np.zeros(corr_matrix.shape[0])\n",
        "    # Loop through the game titles that the user has rated\n",
        "    for game in game_names:\n",
        "        # Sum the correlations\n",
        "        recommendations = recommendations + corr_matrix[list(game_titles).index(game)]\n",
        "    # Convert recommendations into dataframe\n",
        "    recommendations_df = pd.DataFrame({\n",
        "            'Title': game_titles,\n",
        "            'Recommendation': recommendations})\n",
        "    # Remove game titles that the user has already rated\n",
        "    recommendations_df = recommendations_df[~(recommendations_df.Title.isin(game_names))]\n",
        "    # Sort from most correlated to least correlated\n",
        "    recommendations_df = recommendations_df.sort_values(by=['Recommendation'], ascending = False)\n",
        "    return recommendations_df"
      ],
      "execution_count": 31,
      "outputs": []
    },
    {
      "cell_type": "code",
      "metadata": {
        "id": "bfg6oF1VgN0w"
      },
      "source": [
        "\n",
        "recom=[]\n",
        "for user in df2['id']:\n",
        "  # Get list of games that user has played\n",
        "  user_movies = Download_users[Download_users.user == user].item.tolist()  \n",
        "  # Get list of recommendations\n",
        "  recommendations = recommender(user_movies)\n",
        "  # Append top 5 recommendations\n",
        "  recom.append(recommendations.Title.head(5).values)"
      ],
      "execution_count": 34,
      "outputs": []
    },
    {
      "cell_type": "code",
      "metadata": {
        "id": "clcquw7ig3K6"
      },
      "source": [
        "save_into_csv(df,recom)"
      ],
      "execution_count": null,
      "outputs": []
    },
    {
      "cell_type": "markdown",
      "metadata": {
        "id": "j4MW-O1GlTcf"
      },
      "source": [
        "# Combination model \n",
        "In this approach, we use both model to recommend games"
      ]
    },
    {
      "cell_type": "code",
      "metadata": {
        "id": "yc_jOzGoek5a"
      },
      "source": [
        "recom1=[]\n",
        "for user in df2['id']:\n",
        "  # Get list of games that user has played\n",
        "  user_movies = Download_users[Download_users.user == user].item.tolist()  \n",
        "  # Get list of recommendations\n",
        "  recommendations = recommender(user_movies)\n",
        "  # Append top 5 recommendations\n",
        "  recom1.append(recommendations.Title.head(10).values)"
      ],
      "execution_count": null,
      "outputs": []
    },
    {
      "cell_type": "code",
      "metadata": {
        "id": "UgLxu_XCXV0A"
      },
      "source": [
        "keysList = list(count_dict.keys())\n",
        "Re=[]\n",
        "for i in range(len(df2['id'])):\n",
        "  X=[]\n",
        "  #If the game is recommended by both models definitely recommended \n",
        "  X=(np.intersect1d(recom1[i], keysList[:10]))\n",
        "  X=X.tolist()\n",
        "\n",
        "  if len(X)>5:\n",
        "    Re.append(X[:5])\n",
        "  #if there is less than 5 recommended recommended base on similarity\n",
        "  if len(X)<=5:\n",
        "    while len(X)<5: \n",
        "      for x in recom1[i]:\n",
        "        if x not in X:\n",
        "          X.append(x)\n",
        "          if len(X)==5:\n",
        "            break\n",
        "    Re.append(X)"
      ],
      "execution_count": 54,
      "outputs": []
    },
    {
      "cell_type": "code",
      "metadata": {
        "id": "IcEuTEsxmHAg"
      },
      "source": [
        "save_into_csv(df,Re)"
      ],
      "execution_count": null,
      "outputs": []
    }
  ]
}